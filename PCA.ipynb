{
  "nbformat": 4,
  "nbformat_minor": 0,
  "metadata": {
    "colab": {
      "name": "PCA.ipynb",
      "provenance": [],
      "authorship_tag": "ABX9TyO/3xp8FWv2s7Gj2JlVyQTB",
      "include_colab_link": true
    },
    "kernelspec": {
      "name": "python3",
      "display_name": "Python 3"
    },
    "language_info": {
      "name": "python"
    }
  },
  "cells": [
    {
      "cell_type": "markdown",
      "metadata": {
        "id": "view-in-github",
        "colab_type": "text"
      },
      "source": [
        "<a href=\"https://colab.research.google.com/github/ArvidLev/PCA/blob/main/PCA.ipynb\" target=\"_parent\"><img src=\"https://colab.research.google.com/assets/colab-badge.svg\" alt=\"Open In Colab\"/></a>"
      ]
    },
    {
      "cell_type": "markdown",
      "source": [
        "# Principal Component Analysis\n",
        "For this project I am creating a PCA function. I will go over the theory of it but I will be using the numpy library to help me compute.<br>\n",
        "The goal of PCA is dimensionality reduction while maximizing the variance."
      ],
      "metadata": {
        "id": "Fl6gncM5G1ob"
      }
    },
    {
      "cell_type": "markdown",
      "source": [
        "## Theory"
      ],
      "metadata": {
        "id": "uCqa-fz-XZhu"
      }
    },
    {
      "cell_type": "markdown",
      "source": [
        "Consider $\\{x_n\\}, n = 1,2,...,N, x_n \\in \\mathbb{R}^{D}$ <br>\n",
        "Goal: To project onto a flat surface with dimension $N < D$ while maximizing the variance of the projected data. <br>\n",
        "Start with $N = 1$ defined by a single vector $u_1 \\in \\mathbb{R}^D$ which we can assume, without loss of generality, is unit lenght such that $u_1u_1^T = 1$. <br>\n",
        "Then $x_n$ is projected onto a scalar value $u_1^Tx_n$. The mean of the projected data is then $u_1^T\\bar{x}$ where $\\bar{x} = \\frac{1}{N} \\sum_{n = 1}^N x_n$. Now we find the projected variance by $\\frac{1}{N} \\sum_{n = 1}^N (u_1^Tx_n - u_1^T\\bar{x})^2 = u_1^TSu_1$ where $S = \\frac{1}{N} \\sum_{n = 1}^N (x_n - \\bar{x})(x_n - \\bar{x})^T = cov(X)$. <br>\n",
        "We want to maximize the projected variance which gives us the optimization problem,<br> \n",
        "Maximize $u_1^TSu_1$ such that $u_1^Tu_1 = 1$. We will introduce Lagrange multiplier for the constraint. This give us, <br>\n",
        "max $u_1^TSu_1 + \\lambda_1(1 - u_1^Tu)$<br>\n",
        "Taking the derivative with respect to $u_1$ and setting to 0 we get, <br>\n",
        "$2Su_1 - 2\\lambda_1u_1 = 0$<br>\n",
        "$Su_1 = \\lambda_1u_1$ <br>\n",
        "This is an eigen-problem with $(\\lambda_1, u_1)$ eigen-pair. <br>\n",
        "So in order to maximize the variance we need to find the dominant eigen-pair which is the eigen-pair with the largest eigenvalue. <br>\n",
        "This means that the projected variance will be the largest when $u_1$ is set to the eigenvector with the largest eigenvalue of the covariance matrix.\n",
        "\n"
      ],
      "metadata": {
        "id": "ezo9ueF_J63o"
      }
    },
    {
      "cell_type": "markdown",
      "source": [
        "So in order to project for dimensions N > 1, we take the N largest eigenvectors and project our data onto them."
      ],
      "metadata": {
        "id": "pZj0B8l2WkLP"
      }
    },
    {
      "cell_type": "markdown",
      "source": [
        "## Coding"
      ],
      "metadata": {
        "id": "hAc4K18uXdwQ"
      }
    },
    {
      "cell_type": "code",
      "source": [
        "import numpy as np"
      ],
      "metadata": {
        "id": "k6X-urtpHFXx"
      },
      "execution_count": null,
      "outputs": []
    },
    {
      "cell_type": "markdown",
      "source": [
        "First, lets create a matrix that will be our data. Lets use a 10x10 matrix."
      ],
      "metadata": {
        "id": "uuMPBeCsHb0T"
      }
    },
    {
      "cell_type": "code",
      "source": [
        "X = np.random.randint(20,80,100).reshape(10,10)\n",
        "X"
      ],
      "metadata": {
        "colab": {
          "base_uri": "https://localhost:8080/"
        },
        "id": "sgEM0mNzHG-F",
        "outputId": "8bf20445-de31-460f-a9bc-1f824cf06d8e"
      },
      "execution_count": null,
      "outputs": [
        {
          "output_type": "execute_result",
          "data": {
            "text/plain": [
              "array([[30, 26, 51, 68, 36, 38, 58, 75, 38, 39],\n",
              "       [34, 76, 37, 75, 63, 57, 62, 62, 35, 36],\n",
              "       [23, 70, 38, 56, 49, 30, 57, 68, 31, 53],\n",
              "       [34, 36, 24, 45, 29, 75, 25, 68, 63, 42],\n",
              "       [41, 51, 31, 78, 56, 61, 72, 53, 41, 45],\n",
              "       [22, 46, 79, 44, 45, 45, 43, 34, 39, 21],\n",
              "       [72, 51, 48, 56, 49, 57, 39, 75, 73, 20],\n",
              "       [50, 44, 77, 46, 24, 26, 71, 56, 45, 33],\n",
              "       [24, 73, 23, 76, 64, 72, 23, 74, 59, 34],\n",
              "       [20, 27, 64, 63, 38, 30, 34, 34, 46, 33]])"
            ]
          },
          "metadata": {},
          "execution_count": 45
        }
      ]
    },
    {
      "cell_type": "markdown",
      "source": [
        "Now we find the covariance matrix."
      ],
      "metadata": {
        "id": "jIjkBjtdXpm3"
      }
    },
    {
      "cell_type": "code",
      "source": [
        "cov = np.cov(X, rowvar = False)\n",
        "cov"
      ],
      "metadata": {
        "colab": {
          "base_uri": "https://localhost:8080/"
        },
        "id": "A-lCS4z3HrEk",
        "outputId": "1a2f90ec-8126-4fa4-824a-d5a7a7284c4a"
      },
      "execution_count": null,
      "outputs": [
        {
          "output_type": "execute_result",
          "data": {
            "text/plain": [
              "array([[ 257.33333333,   -3.88888889,   11.66666667,  -28.33333333,\n",
              "         -23.33333333,   39.55555556,   61.88888889,   94.        ,\n",
              "         124.        ,  -60.66666667],\n",
              "       [  -3.88888889,  328.88888889, -164.44444444,   87.66666667,\n",
              "         191.88888889,   96.44444444,   30.        ,   88.44444444,\n",
              "         -30.77777778,   30.88888889],\n",
              "       [  11.66666667, -164.44444444,  419.06666667, -143.93333333,\n",
              "        -140.17777778, -269.8       ,   94.02222222, -202.08888889,\n",
              "         -71.        , -112.35555556],\n",
              "       [ -28.33333333,   87.66666667, -143.93333333,  175.78888889,\n",
              "         130.98888889,   66.47777778,   42.24444444,   47.85555556,\n",
              "         -32.77777778,   37.31111111],\n",
              "       [ -23.33333333,  191.88888889, -140.17777778,  130.98888889,\n",
              "         184.9       ,  107.52222222,   -7.46666667,   35.58888889,\n",
              "         -15.55555556,    3.02222222],\n",
              "       [  39.55555556,   96.44444444, -269.8       ,   66.47777778,\n",
              "         107.52222222,  318.32222222, -152.15555556,  106.12222222,\n",
              "         136.88888889,   -8.84444444],\n",
              "       [  61.88888889,   30.        ,   94.02222222,   42.24444444,\n",
              "          -7.46666667, -152.15555556,  326.26666667,  -20.51111111,\n",
              "        -160.        ,   56.06666667],\n",
              "       [  94.        ,   88.44444444, -202.08888889,   47.85555556,\n",
              "          35.58888889,  106.12222222,  -20.51111111,  243.87777778,\n",
              "          75.88888889,   41.95555556],\n",
              "       [ 124.        ,  -30.77777778,  -71.        ,  -32.77777778,\n",
              "         -15.55555556,  136.88888889, -160.        ,   75.88888889,\n",
              "         184.66666667,  -63.11111111],\n",
              "       [ -60.66666667,   30.88888889, -112.35555556,   37.31111111,\n",
              "           3.02222222,   -8.84444444,   56.06666667,   41.95555556,\n",
              "         -63.11111111,  101.82222222]])"
            ]
          },
          "metadata": {},
          "execution_count": 46
        }
      ]
    },
    {
      "cell_type": "markdown",
      "source": [
        "Now we find the eigen-pairs using a numpy function."
      ],
      "metadata": {
        "id": "faA10W5FYA8B"
      }
    },
    {
      "cell_type": "code",
      "source": [
        "eigen_val, eigen_vec = np.linalg.eigh(cov)\n",
        "sorted_index = np.argsort(eigen_val)[::-1]\n",
        "sorted_eigenval = eigen_val[sorted_index]\n",
        "sorted_eigenvec = eigen_vec[:,sorted_index]"
      ],
      "metadata": {
        "id": "ur_Qtdl0X5i1"
      },
      "execution_count": null,
      "outputs": []
    },
    {
      "cell_type": "code",
      "source": [
        "eigen_val"
      ],
      "metadata": {
        "colab": {
          "base_uri": "https://localhost:8080/"
        },
        "id": "I_KHmTIsYgrL",
        "outputId": "7a3151a3-f740-4e79-80e7-96e2c571b5b5"
      },
      "execution_count": null,
      "outputs": [
        {
          "output_type": "execute_result",
          "data": {
            "text/plain": [
              "array([4.74409975e-14, 1.99140058e+00, 1.15133140e+01, 4.33784930e+01,\n",
              "       9.96125047e+01, 1.55720857e+02, 2.59868810e+02, 3.79579252e+02,\n",
              "       5.71076180e+02, 1.01819252e+03])"
            ]
          },
          "metadata": {},
          "execution_count": 48
        }
      ]
    },
    {
      "cell_type": "code",
      "source": [
        "eigen_vec"
      ],
      "metadata": {
        "colab": {
          "base_uri": "https://localhost:8080/"
        },
        "id": "xxnwPbfsaPFZ",
        "outputId": "6bb38fa1-66b2-432c-e7f1-bf19f56a0f92"
      },
      "execution_count": null,
      "outputs": [
        {
          "output_type": "execute_result",
          "data": {
            "text/plain": [
              "array([[-0.32756988, -0.30013247, -0.21748125,  0.30883484, -0.03844625,\n",
              "         0.14912124, -0.17412868,  0.74318829,  0.22789381, -0.0405086 ],\n",
              "       [-0.02672686, -0.11619617,  0.35823998,  0.11613227, -0.16398036,\n",
              "        -0.5113717 , -0.52491849,  0.07163991, -0.39582459, -0.34383451],\n",
              "       [-0.44222313,  0.29674632,  0.20576388, -0.34066635,  0.14348761,\n",
              "        -0.03551026, -0.41571357,  0.05839385,  0.05869327,  0.59704757],\n",
              "       [-0.17773112, -0.16045467,  0.45887596,  0.06345594,  0.55012089,\n",
              "         0.54135065,  0.02822424, -0.03379907, -0.28413279, -0.22295335],\n",
              "       [-0.01685146,  0.41954237, -0.64178801,  0.00994418,  0.22999449,\n",
              "         0.18666454, -0.40552925, -0.08478331, -0.26523527, -0.28631529],\n",
              "       [-0.25089319,  0.06497143,  0.12877577, -0.4756336 , -0.52210669,\n",
              "         0.35229936, -0.08972148, -0.06944998,  0.24860433, -0.4675823 ],\n",
              "       [ 0.355089  ,  0.26923031,  0.10644928, -0.15777253, -0.3114282 ,\n",
              "         0.26454448,  0.14354118,  0.50151146, -0.53613139,  0.19666527],\n",
              "       [-0.04780387,  0.11518503, -0.03859378, -0.52286212,  0.42371427,\n",
              "        -0.41583245,  0.32967598,  0.38145211,  0.04990554, -0.31692267],\n",
              "       [ 0.31717619,  0.58834279,  0.35911237,  0.32823676,  0.10917554,\n",
              "         0.02664186, -0.12293942,  0.15972907,  0.48500536, -0.16752375],\n",
              "       [-0.61043304,  0.4128898 ,  0.03467619,  0.37244001, -0.18568029,\n",
              "        -0.13918209,  0.45123948, -0.05867138, -0.22338191, -0.07856091]])"
            ]
          },
          "metadata": {},
          "execution_count": 49
        }
      ]
    },
    {
      "cell_type": "markdown",
      "source": [
        "Now we project our data onto the N number of eigenvectors. For this example, lets use N = 5."
      ],
      "metadata": {
        "id": "AmyAcwzUckUw"
      }
    },
    {
      "cell_type": "code",
      "source": [
        "eigen_vectors = eigen_vec[-5:]\n",
        "projected_X = np.dot(eigen_vectors, X)"
      ],
      "metadata": {
        "id": "VcbGIvV4bMyW"
      },
      "execution_count": null,
      "outputs": []
    },
    {
      "cell_type": "code",
      "source": [
        "projected_X"
      ],
      "metadata": {
        "colab": {
          "base_uri": "https://localhost:8080/"
        },
        "id": "GyRCpujcddVb",
        "outputId": "db02b160-1b3b-4343-b38e-664e4a83c812"
      },
      "execution_count": null,
      "outputs": [
        {
          "output_type": "execute_result",
          "data": {
            "text/plain": [
              "array([[-45.50084283, -22.22377094, -39.128642  , -70.38595628,\n",
              "        -33.72742215, -56.68263462, -56.1269913 , -62.18795699,\n",
              "        -57.41555596, -47.75782023],\n",
              "       [ 36.41868055,  23.31113959,  85.33624673,  33.30003838,\n",
              "         17.08051167,   1.62707299,  63.92433629,  38.1859177 ,\n",
              "         24.28675203,  21.77948127],\n",
              "       [ 29.70973321,  17.15125713,  -5.84599008,  14.28659816,\n",
              "          9.95702749,  -5.69455734,  32.03700162,  12.7003901 ,\n",
              "         -1.16929607,  -0.9689285 ],\n",
              "       [ 61.42536142, 128.34891804,  71.78941848, 137.03191077,\n",
              "        105.39593048, 115.87803533, 104.56047654, 143.61629443,\n",
              "         89.09377527,  85.6156584 ],\n",
              "       [ 21.13416618,  17.47511731, -15.37426467, -11.80395425,\n",
              "          3.29593588,  17.47672765, -12.24839971,   4.28337632,\n",
              "         16.25931199,  -5.83983512]])"
            ]
          },
          "metadata": {},
          "execution_count": 51
        }
      ]
    },
    {
      "cell_type": "markdown",
      "source": [
        "## Function\n",
        "Now lets put everything together into a function."
      ],
      "metadata": {
        "id": "9tLXobotdrrU"
      }
    },
    {
      "cell_type": "code",
      "source": [
        "def PCA(X, num_components = 0):\n",
        "  if num_components == 0:\n",
        "    num_components = len(X) #This gives us N = D projection\n",
        "  cov = np.cov(X, rowvar = False)\n",
        "  eigen_val, eigen_vec = np.linalg.eigh(cov)\n",
        "  sorted_index = np.argsort(eigen_val)[::-1]\n",
        "  sorted_eigenval = eigen_val[sorted_index]\n",
        "  sorted_eigenvec = eigen_vec[:,sorted_index]\n",
        "  eigen_vectors = eigen_vec[-num_components:]\n",
        "  projected_X = np.dot(eigen_vectors, X)\n",
        "  return projected_X\n",
        "  "
      ],
      "metadata": {
        "id": "VG3Wu8o3doys"
      },
      "execution_count": null,
      "outputs": []
    },
    {
      "cell_type": "code",
      "source": [
        "PCA(X, 5)"
      ],
      "metadata": {
        "colab": {
          "base_uri": "https://localhost:8080/"
        },
        "id": "M1rPOKyueEtS",
        "outputId": "06a06b57-9851-459a-d6b9-cb905f65119e"
      },
      "execution_count": null,
      "outputs": [
        {
          "output_type": "execute_result",
          "data": {
            "text/plain": [
              "array([[-18.94753588, -20.31310808, -38.39264664, -11.96549655,\n",
              "         -4.74087782,  22.85419159,  -1.76442085, -15.55914334,\n",
              "         12.62152778, -19.05283023],\n",
              "       [ 59.08391246,  60.9353822 ,  49.10347996,  56.91153725,\n",
              "         61.50652529,  73.25043538,  77.64481871,  79.55876167,\n",
              "         71.72065922,  83.62136532],\n",
              "       [ 10.19160121,  27.45348611,   8.50188698,  23.00728555,\n",
              "          0.71367103,  37.1730505 ,  18.60750998,  -5.0261363 ,\n",
              "         12.56018307,  19.42343253],\n",
              "       [ 97.8349777 ,  89.13696084,  82.14440077, 109.7211591 ,\n",
              "         80.99472638,  85.77230115,  88.96343673,  40.74948208,\n",
              "         78.48135773,  56.04167883],\n",
              "       [ 52.92916182,  56.70466666,  68.2429557 ,  43.56584498,\n",
              "         46.85116433,  52.05115317,  58.31781937,  55.09771571,\n",
              "         83.87460142,  49.27127221]])"
            ]
          },
          "metadata": {},
          "execution_count": 34
        }
      ]
    }
  ]
}